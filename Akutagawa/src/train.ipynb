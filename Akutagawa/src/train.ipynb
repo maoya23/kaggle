{
 "cells": [
  {
   "cell_type": "code",
   "execution_count": 1,
   "metadata": {},
   "outputs": [],
   "source": [
    "import pandas as pd\n",
    "import yaml"
   ]
  },
  {
   "cell_type": "code",
   "execution_count": 2,
   "metadata": {},
   "outputs": [],
   "source": [
    "#YAMLファイルを読み込む\n",
    "with open('../config/config.yaml', 'r') as f:\n",
    "    config = yaml.safe_load(f)\n"
   ]
  },
  {
   "cell_type": "code",
   "execution_count": 3,
   "metadata": {},
   "outputs": [
    {
     "name": "stdout",
     "output_type": "stream",
     "text": [
      "      writing_id                                               body  author\n",
      "0              0  \\r\\n　先ごろの本欄に僕の「風報」にかいた「天皇陛下に捧ぐる言葉」を評して俗うけを狙った媚...       0\n",
      "1              1  \\r\\n　旅の眼に映じた外国の正月をといふお需めで、一昔前の記憶から探してみたが、其処にはほ...       0\n",
      "2              2  \\r\\n　或る心持のよい夕方、日比谷公園の樹の繁みの間で、若葉楓の梢を眺めていたら、どこから...       0\n",
      "3              3  \\r\\n\\r\\n［＃３字下げ］一［＃「一」は中見出し］\\r\\n\\r\\n　島々《しま／＼》と云...       1\n",
      "4              7  \\r\\n\\r\\n　或る田舎に母と子とが住んでいた。そして或る年の秋、次のようなことがあった。...       0\n",
      "...          ...                                                ...     ...\n",
      "3307        4724  \\r\\n\\r\\n［＃９字下げ］一［＃「一」は中見出し］\\r\\n\\r\\n　八五郎の取柄は、誰と...       0\n",
      "3308        4728  \\r\\n\\r\\n　ある婦人が私に言つた。私が情痴作家などゝ言はれることは、私が小説の中で作者...       0\n",
      "3309        4729  \\r\\n\\r\\n　諸君は、東京市某町某番地なる風博士の邸宅を御存じであろう乎《か》？　御存じ...       0\n",
      "3310        4730  \\r\\n\\r\\n［＃９字下げ］一［＃「一」は中見出し］\\r\\n\\r\\n「御免」\\r\\n　少し...       0\n",
      "3311        4731  \\r\\n\\r\\n　ちやうど今日（十月三日）文部省で著作家側を招いて新カナヅカイと漢字の問題で...       0\n",
      "\n",
      "[3312 rows x 3 columns]\n"
     ]
    }
   ],
   "source": [
    "df=pd.read_csv(config['train_path'])\n",
    "print(df)"
   ]
  },
  {
   "cell_type": "code",
   "execution_count": 4,
   "metadata": {},
   "outputs": [
    {
     "data": {
      "image/png": "[encoded data removed]",
      "text/plain": [
       "<Figure size 640x480 with 1 Axes>"
      ]
     },
     "metadata": {},
     "output_type": "display_data"
    }
   ],
   "source": [
    "import matplotlib.pyplot as plt\n",
    "\n",
    "df['author'].value_counts().plot(kind='bar')\n",
    "plt.show()"
   ]
  },
  {
   "cell_type": "code",
   "execution_count": 5,
   "metadata": {},
   "outputs": [
    {
     "name": "stderr",
     "output_type": "stream",
     "text": [
      "/home/bdr/kaggle/kaggle/lib/python3.10/site-packages/tqdm/auto.py:21: TqdmWarning: IProgress not found. Please update jupyter and ipywidgets. See https://ipywidgets.readthedocs.io/en/stable/user_install.html\n",
      "  from .autonotebook import tqdm as notebook_tqdm\n"
     ]
    }
   ],
   "source": [
    "import glob\n",
    "import os\n",
    "import pandas as pd\n",
    "from sklearn.model_selection import train_test_split\n",
    "import torch\n",
    "from torch import nn\n",
    "from torch.utils.data import Dataset, DataLoader, WeightedRandomSampler\n",
    "from transformers import BertJapaneseTokenizer, BertForSequenceClassification\n",
    "import random\n",
    "import numpy as np\n",
    "from tqdm import tqdm\n",
    "import mlflow\n",
    "from transformers import BertModel\n",
    "import torch.optim as optim\n",
    "from transformers import get_cosine_schedule_with_warmup\n",
    "import transformers\n",
    "from model import EarlyStopper\n",
    "from sklearn.metrics import f1_score"
   ]
  },
  {
   "cell_type": "code",
   "execution_count": 6,
   "metadata": {},
   "outputs": [
    {
     "data": {
      "text/html": [
       "<div>\n",
       "<style scoped>\n",
       "    .dataframe tbody tr th:only-of-type {\n",
       "        vertical-align: middle;\n",
       "    }\n",
       "\n",
       "    .dataframe tbody tr th {\n",
       "        vertical-align: top;\n",
       "    }\n",
       "\n",
       "    .dataframe thead th {\n",
       "        text-align: right;\n",
       "    }\n",
       "</style>\n",
       "<table border=\"1\" class=\"dataframe\">\n",
       "  <thead>\n",
       "    <tr style=\"text-align: right;\">\n",
       "      <th></th>\n",
       "      <th>writing_id</th>\n",
       "      <th>body</th>\n",
       "      <th>author</th>\n",
       "    </tr>\n",
       "  </thead>\n",
       "  <tbody>\n",
       "    <tr>\n",
       "      <th>255</th>\n",
       "      <td>356</td>\n",
       "      <td>\\r\\n\\r\\n　　　　　一　或る図書館員の話\\r\\n\\r\\n　掘割の橋のたもとで、いつも自...</td>\n",
       "      <td>0</td>\n",
       "    </tr>\n",
       "    <tr>\n",
       "      <th>3177</th>\n",
       "      <td>4544</td>\n",
       "      <td>\\r\\n\\r\\n　僕に小説をかけと云ふのかね。書けるのなら、とうに書いてゐるさ。が、書けない...</td>\n",
       "      <td>1</td>\n",
       "    </tr>\n",
       "    <tr>\n",
       "      <th>959</th>\n",
       "      <td>1368</td>\n",
       "      <td>\\r\\n\\r\\n　どんな時代でも文化について政策が考えられるとき、それが建設的でなければなら...</td>\n",
       "      <td>0</td>\n",
       "    </tr>\n",
       "    <tr>\n",
       "      <th>1520</th>\n",
       "      <td>2154</td>\n",
       "      <td>\\r\\n\\r\\n　昔《むかし》、ある国《くに》に有名《ゆうめい》な陶器師《とうきし》がありま...</td>\n",
       "      <td>0</td>\n",
       "    </tr>\n",
       "    <tr>\n",
       "      <th>2843</th>\n",
       "      <td>4074</td>\n",
       "      <td>\\r\\n\\r\\n　こんど同行する湯浅芳子さんは七月頃既に旅券が下附されていたのだが、私が行く...</td>\n",
       "      <td>0</td>\n",
       "    </tr>\n",
       "    <tr>\n",
       "      <th>...</th>\n",
       "      <td>...</td>\n",
       "      <td>...</td>\n",
       "      <td>...</td>\n",
       "    </tr>\n",
       "    <tr>\n",
       "      <th>1224</th>\n",
       "      <td>1722</td>\n",
       "      <td>\\r\\n\\r\\n「伸子」は、一九二四年頃から三年ほどかかって書かれた。丁度、第一次ヨーロッパ...</td>\n",
       "      <td>0</td>\n",
       "    </tr>\n",
       "    <tr>\n",
       "      <th>1359</th>\n",
       "      <td>1918</td>\n",
       "      <td>\\r\\n\\r\\n　或日《あるひ》の暮方の事である。一人の下人が、羅生門《らしやうもん》の下で...</td>\n",
       "      <td>1</td>\n",
       "    </tr>\n",
       "    <tr>\n",
       "      <th>797</th>\n",
       "      <td>1133</td>\n",
       "      <td>\\r\\n\\r\\n　自動車の中で、自分は安倍さんの左側に腰掛けた。自分の左には山口さんが居た。...</td>\n",
       "      <td>0</td>\n",
       "    </tr>\n",
       "    <tr>\n",
       "      <th>654</th>\n",
       "      <td>919</td>\n",
       "      <td>\\r\\n\\r\\n［＃ここから５字下げ］\\r\\n中流家庭の茶の間――奥の障子を隔てて台所――衣...</td>\n",
       "      <td>0</td>\n",
       "    </tr>\n",
       "    <tr>\n",
       "      <th>849</th>\n",
       "      <td>1209</td>\n",
       "      <td>\\r\\n\\r\\n［＃５字下げ］一［＃「一」は中見出し］\\r\\n\\r\\n　いま時分に、まだ花の...</td>\n",
       "      <td>0</td>\n",
       "    </tr>\n",
       "  </tbody>\n",
       "</table>\n",
       "<p>2649 rows × 3 columns</p>\n",
       "</div>"
      ],
      "text/plain": [
       "      writing_id                                               body  author\n",
       "255          356  \\r\\n\\r\\n　　　　　一　或る図書館員の話\\r\\n\\r\\n　掘割の橋のたもとで、いつも自...       0\n",
       "3177        4544  \\r\\n\\r\\n　僕に小説をかけと云ふのかね。書けるのなら、とうに書いてゐるさ。が、書けない...       1\n",
       "959         1368  \\r\\n\\r\\n　どんな時代でも文化について政策が考えられるとき、それが建設的でなければなら...       0\n",
       "1520        2154  \\r\\n\\r\\n　昔《むかし》、ある国《くに》に有名《ゆうめい》な陶器師《とうきし》がありま...       0\n",
       "2843        4074  \\r\\n\\r\\n　こんど同行する湯浅芳子さんは七月頃既に旅券が下附されていたのだが、私が行く...       0\n",
       "...          ...                                                ...     ...\n",
       "1224        1722  \\r\\n\\r\\n「伸子」は、一九二四年頃から三年ほどかかって書かれた。丁度、第一次ヨーロッパ...       0\n",
       "1359        1918  \\r\\n\\r\\n　或日《あるひ》の暮方の事である。一人の下人が、羅生門《らしやうもん》の下で...       1\n",
       "797         1133  \\r\\n\\r\\n　自動車の中で、自分は安倍さんの左側に腰掛けた。自分の左には山口さんが居た。...       0\n",
       "654          919  \\r\\n\\r\\n［＃ここから５字下げ］\\r\\n中流家庭の茶の間――奥の障子を隔てて台所――衣...       0\n",
       "849         1209  \\r\\n\\r\\n［＃５字下げ］一［＃「一」は中見出し］\\r\\n\\r\\n　いま時分に、まだ花の...       0\n",
       "\n",
       "[2649 rows x 3 columns]"
      ]
     },
     "execution_count": 6,
     "metadata": {},
     "output_type": "execute_result"
    }
   ],
   "source": [
    "train_df, val_df = train_test_split(df, test_size=0.2, stratify=df['author'], random_state=42)\n",
    "train_df"
   ]
  },
  {
   "cell_type": "code",
   "execution_count": 7,
   "metadata": {},
   "outputs": [
    {
     "data": {
      "text/plain": [
       "\"\\ndf['fold']=df.index%5\\ntrain_df=df[df['fold']!=0].reset_index(drop=True)\\nval_df=df[df['fold']==0].reset_index(drop=True)\\ntrain_df\\n\""
      ]
     },
     "execution_count": 7,
     "metadata": {},
     "output_type": "execute_result"
    }
   ],
   "source": [
    "'''\n",
    "df['fold']=df.index%5\n",
    "train_df=df[df['fold']!=0].reset_index(drop=True)\n",
    "val_df=df[df['fold']==0].reset_index(drop=True)\n",
    "train_df\n",
    "'''"
   ]
  },
  {
   "cell_type": "code",
   "execution_count": 8,
   "metadata": {},
   "outputs": [
    {
     "data": {
      "text/plain": [
       "'\\n    sen_length = []\\n\\n    for sentence in tqdm(df[\"body\"]):\\n\\n        token_words = tokenizer.encode_plus(sentence)[\"input_ids\"]\\n        sen_length.append(len(token_words))\\n\\n    print(\\'maxlenth of all sentences are  \\', max(sen_length))\\n'"
      ]
     },
     "execution_count": 8,
     "metadata": {},
     "output_type": "execute_result"
    }
   ],
   "source": [
    "tokenizer=BertJapaneseTokenizer.from_pretrained(config['MODEL_NAME'])\n",
    "'''\n",
    "    sen_length = []\n",
    "\n",
    "    for sentence in tqdm(df[\"body\"]):\n",
    "\n",
    "        token_words = tokenizer.encode_plus(sentence)[\"input_ids\"]\n",
    "        sen_length.append(len(token_words))\n",
    "\n",
    "    print('maxlenth of all sentences are  ', max(sen_length))\n",
    "'''"
   ]
  },
  {
   "cell_type": "code",
   "execution_count": 9,
   "metadata": {},
   "outputs": [],
   "source": [
    "\n",
    "class BERTDataSet(Dataset):\n",
    "    \n",
    "    def __init__(self,data,tokenizer,mode='train'):\n",
    "        self.data=data\n",
    "        self.mode=mode\n",
    "        self.tokenizer=tokenizer\n",
    "        self.sentences = self.data[\"body\"].tolist()\n",
    "        if self.mode != 'test':\n",
    "            self.labels = self.data[\"author\"].tolist()\n",
    "        \n",
    "    def __len__(self):\n",
    "        \n",
    "        return len(self.sentences)\n",
    "    \n",
    "    def __getitem__(self,idx):\n",
    "        \n",
    "        sentence = self.sentences[idx]\n",
    "\n",
    "        if self.mode != 'test':\n",
    "            label = torch.tensor(self.labels[idx],dtype=torch.long)\n",
    "        \n",
    "        bert_sens = tokenizer.encode_plus(\n",
    "                                sentence,\n",
    "                                add_special_tokens = True, \n",
    "                                max_length = 512, \n",
    "                                padding = 'max_length', \n",
    "                                return_attention_mask = True,\n",
    "                                return_tensors='pt',\n",
    "                                truncation=True)\n",
    "        ids = bert_sens['input_ids'].clone().detach().squeeze()\n",
    "        mask = bert_sens['attention_mask'].clone().detach().squeeze()\n",
    "        token_type_ids = bert_sens['token_type_ids'].clone().detach().squeeze()\n",
    "\n",
    "        if self.mode != 'test':\n",
    "            return {\n",
    "                'ids': ids,\n",
    "                'mask': mask,\n",
    "                'token_type_ids': token_type_ids,\n",
    "                'labels': label\n",
    "            }\n",
    "        else:\n",
    "            return {\n",
    "                    'ids': ids,\n",
    "                    'mask': mask,\n",
    "                    'token_type_ids': token_type_ids,\n",
    "                }\n",
    "    \n",
    "tokenizer=BertJapaneseTokenizer.from_pretrained(config['MODEL_NAME'])\n"
   ]
  },
  {
   "cell_type": "code",
   "execution_count": 10,
   "metadata": {},
   "outputs": [],
   "source": [
    "\n",
    "train_dataset = BERTDataSet(data=train_df,tokenizer=tokenizer)\n",
    "valid_dataset = BERTDataSet(data=val_df,tokenizer=tokenizer)\n"
   ]
  },
  {
   "cell_type": "code",
   "execution_count": 11,
   "metadata": {},
   "outputs": [],
   "source": [
    "train_dataloader=DataLoader(train_dataset,batch_size=config['TRAIN_BATCH'],shuffle=True,num_workers=0,pin_memory=True)\n",
    "val_dataloader=DataLoader(valid_dataset,batch_size=config['VAL_BATCH'],shuffle=False,num_workers=0,pin_memory=True)"
   ]
  },
  {
   "cell_type": "code",
   "execution_count": 12,
   "metadata": {},
   "outputs": [],
   "source": [
    "bert_model = BertModel.from_pretrained('cl-tohoku/bert-base-japanese-whole-word-masking')\n",
    "\n",
    "# 線形層の追加\n",
    "class BertForSequenceClassification(nn.Module):\n",
    "    def __init__(self, bert_model, num_labels):\n",
    "        super(BertForSequenceClassification, self).__init__()\n",
    "        self.bert = bert_model\n",
    "        self.dropout = nn.Dropout(bert_model.config.hidden_dropout_prob)\n",
    "        self.classifier = nn.Linear(bert_model.config.hidden_size, num_labels)\n",
    "    \n",
    "    def forward(self, input_ids, attention_mask=None, token_type_ids=None):\n",
    "        outputs = self.bert(input_ids, attention_mask=attention_mask, token_type_ids=token_type_ids)\n",
    "        pooled_output = outputs[1]\n",
    "        logits = self.classifier(pooled_output)\n",
    "        return logits\n",
    "\n",
    "num_labels = 2\n",
    "model = BertForSequenceClassification(bert_model, num_labels)"
   ]
  },
  {
   "cell_type": "code",
   "execution_count": 13,
   "metadata": {},
   "outputs": [],
   "source": [
    "import torch.optim as optim\n",
    "\n",
    "# 事前学習済の箇所は学習率小さめ、最後の全結合層は大きめにする。\n",
    "optimizer = optim.Adam([\n",
    "    {'params': model.bert.encoder.layer[-1].parameters(), 'lr': 5e-5},\n",
    "    {'params': model.classifier.parameters(), 'lr': 1e-4}\n",
    "])\n",
    "\n",
    "scheduler = torch.optim.lr_scheduler.StepLR(optimizer, step_size=1, gamma=0.1)\n",
    "\n",
    "\n",
    "# 損失関数の設定\n",
    "loss_function = nn.CrossEntropyLoss()\n",
    "model.to(config['DEVICE'])\n",
    "\n",
    "early_stopping = EarlyStopper()"
   ]
  },
  {
   "cell_type": "code",
   "execution_count": 14,
   "metadata": {},
   "outputs": [
    {
     "name": "stderr",
     "output_type": "stream",
     "text": [
      "                                                                                     \r"
     ]
    },
    {
     "name": "stdout",
     "output_type": "stream",
     "text": [
      "Validation accuracy increased (inf --> 0.118248).  Saving model ...\n",
      "Epoch 1/50: Train Loss = 0.21858865129256463, Val Loss = 0.11824810274300121\n"
     ]
    },
    {
     "name": "stderr",
     "output_type": "stream",
     "text": [
      "                                                                                    \r"
     ]
    },
    {
     "name": "stdout",
     "output_type": "stream",
     "text": [
      "Validation accuracy increased (0.118248 --> 0.096423).  Saving model ...\n",
      "Epoch 2/50: Train Loss = 0.08202916195795658, Val Loss = 0.09642328299759399\n"
     ]
    },
    {
     "name": "stderr",
     "output_type": "stream",
     "text": [
      "                                                                                     \r"
     ]
    },
    {
     "name": "stdout",
     "output_type": "stream",
     "text": [
      "Validation accuracy increased (0.096423 --> 0.094716).  Saving model ...\n",
      "Epoch 3/50: Train Loss = 0.08165531634656062, Val Loss = 0.09471580603470404\n"
     ]
    },
    {
     "name": "stderr",
     "output_type": "stream",
     "text": [
      "                                                                                    \r"
     ]
    },
    {
     "name": "stdout",
     "output_type": "stream",
     "text": [
      "Validation accuracy increased (0.094716 --> 0.094504).  Saving model ...\n",
      "Epoch 4/50: Train Loss = 0.07864256382145617, Val Loss = 0.0945043254732376\n"
     ]
    },
    {
     "name": "stderr",
     "output_type": "stream",
     "text": [
      "                                                                                     \r"
     ]
    },
    {
     "name": "stdout",
     "output_type": "stream",
     "text": [
      "Validation accuracy increased (0.094504 --> 0.094488).  Saving model ...\n",
      "Epoch 5/50: Train Loss = 0.07785763392079038, Val Loss = 0.09448846172363985\n"
     ]
    },
    {
     "name": "stderr",
     "output_type": "stream",
     "text": [
      "                                                                                    \r"
     ]
    },
    {
     "name": "stdout",
     "output_type": "stream",
     "text": [
      "Validation accuracy increased (0.094488 --> 0.094488).  Saving model ...\n",
      "Epoch 6/50: Train Loss = 0.08006792026852448, Val Loss = 0.09448820747257698\n"
     ]
    },
    {
     "name": "stderr",
     "output_type": "stream",
     "text": [
      "                                                                                     \r"
     ]
    },
    {
     "name": "stdout",
     "output_type": "stream",
     "text": [
      "Validation accuracy increased (0.094488 --> 0.094488).  Saving model ...\n",
      "Epoch 7/50: Train Loss = 0.07787532485314612, Val Loss = 0.09448820702909004\n"
     ]
    },
    {
     "name": "stderr",
     "output_type": "stream",
     "text": [
      "                                                                                    \r"
     ]
    },
    {
     "name": "stdout",
     "output_type": "stream",
     "text": [
      "Validation accuracy increased (0.094488 --> 0.094488).  Saving model ...\n",
      "Epoch 8/50: Train Loss = 0.07982234344032245, Val Loss = 0.09448820649690572\n"
     ]
    },
    {
     "name": "stderr",
     "output_type": "stream",
     "text": [
      "                                                                                    \r"
     ]
    },
    {
     "name": "stdout",
     "output_type": "stream",
     "text": [
      "Validation accuracy increased (0.094488 --> 0.094488).  Saving model ...\n",
      "Epoch 9/50: Train Loss = 0.07975173739054386, Val Loss = 0.09448820614211616\n"
     ]
    },
    {
     "name": "stderr",
     "output_type": "stream",
     "text": [
      "                                                                                     \r"
     ]
    },
    {
     "name": "stdout",
     "output_type": "stream",
     "text": [
      "Validation accuracy increased (0.094488 --> 0.094488).  Saving model ...\n",
      "Epoch 10/50: Train Loss = 0.08000229441572025, Val Loss = 0.09448820614211616\n"
     ]
    },
    {
     "name": "stderr",
     "output_type": "stream",
     "text": [
      "                                                                                     \r"
     ]
    },
    {
     "name": "stdout",
     "output_type": "stream",
     "text": [
      "Validation accuracy increased (0.094488 --> 0.094488).  Saving model ...\n",
      "Epoch 11/50: Train Loss = 0.0768187761907073, Val Loss = 0.09448820614211616\n"
     ]
    },
    {
     "name": "stderr",
     "output_type": "stream",
     "text": [
      "                                                                                      \r"
     ]
    },
    {
     "name": "stdout",
     "output_type": "stream",
     "text": [
      "Validation accuracy increased (0.094488 --> 0.094488).  Saving model ...\n",
      "Epoch 12/50: Train Loss = 0.08077857236613531, Val Loss = 0.09448820614211616\n"
     ]
    },
    {
     "name": "stderr",
     "output_type": "stream",
     "text": [
      "                                                                                      \r"
     ]
    },
    {
     "name": "stdout",
     "output_type": "stream",
     "text": [
      "Validation accuracy increased (0.094488 --> 0.094488).  Saving model ...\n",
      "Epoch 13/50: Train Loss = 0.08014645756233528, Val Loss = 0.09448820614211616\n"
     ]
    },
    {
     "name": "stderr",
     "output_type": "stream",
     "text": [
      "                                                                                      \r"
     ]
    },
    {
     "name": "stdout",
     "output_type": "stream",
     "text": [
      "Validation accuracy increased (0.094488 --> 0.094488).  Saving model ...\n",
      "Epoch 14/50: Train Loss = 0.07854911724823606, Val Loss = 0.09448820614211616\n"
     ]
    },
    {
     "name": "stderr",
     "output_type": "stream",
     "text": [
      "                                                                                     \r"
     ]
    },
    {
     "name": "stdout",
     "output_type": "stream",
     "text": [
      "Validation accuracy increased (0.094488 --> 0.094488).  Saving model ...\n",
      "Epoch 15/50: Train Loss = 0.07540827470057342, Val Loss = 0.09448820614211616\n"
     ]
    },
    {
     "name": "stderr",
     "output_type": "stream",
     "text": [
      "                                                                                     \r"
     ]
    },
    {
     "name": "stdout",
     "output_type": "stream",
     "text": [
      "Validation accuracy increased (0.094488 --> 0.094488).  Saving model ...\n",
      "Epoch 16/50: Train Loss = 0.07931036067318666, Val Loss = 0.09448820614211616\n"
     ]
    },
    {
     "name": "stderr",
     "output_type": "stream",
     "text": [
      "                                                                                     \r"
     ]
    },
    {
     "name": "stdout",
     "output_type": "stream",
     "text": [
      "Validation accuracy increased (0.094488 --> 0.094488).  Saving model ...\n",
      "Epoch 17/50: Train Loss = 0.07795457139959087, Val Loss = 0.09448820614211616\n"
     ]
    },
    {
     "name": "stderr",
     "output_type": "stream",
     "text": [
      "                                                                                      \r"
     ]
    },
    {
     "name": "stdout",
     "output_type": "stream",
     "text": [
      "Validation accuracy increased (0.094488 --> 0.094488).  Saving model ...\n",
      "Epoch 18/50: Train Loss = 0.07845365738844028, Val Loss = 0.09448820614211616\n"
     ]
    },
    {
     "name": "stderr",
     "output_type": "stream",
     "text": [
      "                                                                                      \r"
     ]
    },
    {
     "name": "stdout",
     "output_type": "stream",
     "text": [
      "Validation accuracy increased (0.094488 --> 0.094488).  Saving model ...\n",
      "Epoch 19/50: Train Loss = 0.07650321291714728, Val Loss = 0.09448820614211616\n"
     ]
    },
    {
     "name": "stderr",
     "output_type": "stream",
     "text": [
      "                                                                                     \r"
     ]
    },
    {
     "name": "stdout",
     "output_type": "stream",
     "text": [
      "Validation accuracy increased (0.094488 --> 0.094488).  Saving model ...\n",
      "Epoch 20/50: Train Loss = 0.07819239700392606, Val Loss = 0.09448820614211616\n"
     ]
    },
    {
     "name": "stderr",
     "output_type": "stream",
     "text": [
      "                                                                                      \r"
     ]
    },
    {
     "name": "stdout",
     "output_type": "stream",
     "text": [
      "Validation accuracy increased (0.094488 --> 0.094488).  Saving model ...\n",
      "Epoch 21/50: Train Loss = 0.07786689898145037, Val Loss = 0.09448820614211616\n"
     ]
    },
    {
     "name": "stderr",
     "output_type": "stream",
     "text": [
      "                                                                                     \r"
     ]
    },
    {
     "name": "stdout",
     "output_type": "stream",
     "text": [
      "Validation accuracy increased (0.094488 --> 0.094488).  Saving model ...\n",
      "Epoch 22/50: Train Loss = 0.07614994239264045, Val Loss = 0.09448820614211616\n"
     ]
    },
    {
     "name": "stderr",
     "output_type": "stream",
     "text": [
      "                                                                                     \r"
     ]
    },
    {
     "name": "stdout",
     "output_type": "stream",
     "text": [
      "Validation accuracy increased (0.094488 --> 0.094488).  Saving model ...\n",
      "Epoch 23/50: Train Loss = 0.08085149630668562, Val Loss = 0.09448820614211616\n"
     ]
    },
    {
     "name": "stderr",
     "output_type": "stream",
     "text": [
      "                                                                                     \r"
     ]
    },
    {
     "name": "stdout",
     "output_type": "stream",
     "text": [
      "Validation accuracy increased (0.094488 --> 0.094488).  Saving model ...\n",
      "Epoch 24/50: Train Loss = 0.07873156334901879, Val Loss = 0.09448820614211616\n"
     ]
    },
    {
     "name": "stderr",
     "output_type": "stream",
     "text": [
      "                                                                                      \r"
     ]
    },
    {
     "name": "stdout",
     "output_type": "stream",
     "text": [
      "Validation accuracy increased (0.094488 --> 0.094488).  Saving model ...\n",
      "Epoch 25/50: Train Loss = 0.0775548568113247, Val Loss = 0.09448820614211616\n"
     ]
    },
    {
     "name": "stderr",
     "output_type": "stream",
     "text": [
      "                                                                                      \r"
     ]
    },
    {
     "name": "stdout",
     "output_type": "stream",
     "text": [
      "Validation accuracy increased (0.094488 --> 0.094488).  Saving model ...\n",
      "Epoch 26/50: Train Loss = 0.07859956980570702, Val Loss = 0.09448820614211616\n"
     ]
    },
    {
     "name": "stderr",
     "output_type": "stream",
     "text": [
      "Epoch 27/50:  79%|███████▉  | 131/166 [01:33<00:25,  1.37it/s, Loss=0.0601, Acc=77]  "
     ]
    }
   ],
   "source": [
    "train_loss=[]\n",
    "valid_loss=[]\n",
    "\n",
    "for epoch in range(config['EPOCH']):\n",
    "    model.train()\n",
    "    total_loss = 0\n",
    "    total_acc=0\n",
    "    progress_bar = tqdm(train_dataloader, desc=f'Epoch {epoch + 1}/{config[\"EPOCH\"]}', leave=False)\n",
    "    for batch in progress_bar:\n",
    "        input_ids = batch['ids'].to(config['DEVICE'])\n",
    "        attention_mask = batch['mask'].to(config['DEVICE'])\n",
    "        labels = batch['labels'].to(config['DEVICE'])\n",
    "        token_type_ids = batch['token_type_ids'].to(config['DEVICE'])\n",
    "        \n",
    "        optimizer.zero_grad()\n",
    "        \n",
    "        outputs = model(input_ids=input_ids, attention_mask=attention_mask, token_type_ids=token_type_ids)\n",
    "        loss = loss_function(outputs, labels)\n",
    "        total_loss += loss.item()\n",
    "\n",
    "        acc=(outputs.argmax(1)==labels).sum().item()\n",
    "        total_acc+=acc\n",
    "        \n",
    "        loss.backward()\n",
    "        optimizer.step()\n",
    "        \n",
    "        progress_bar.set_postfix({'Loss': total_loss / len(train_dataloader), 'Acc': total_acc *100/ len(train_dataloader.dataset)})\n",
    "    \n",
    "    # Validation loop\n",
    "    model.eval()\n",
    "    val_loss = 0\n",
    "    val_acc=0\n",
    "    with torch.no_grad():\n",
    "        for batch in val_dataloader:\n",
    "            input_ids = batch['ids'].to(config['DEVICE'])\n",
    "            attention_mask = batch['mask'].to(config['DEVICE'])\n",
    "            labels = batch['labels'].to(config['DEVICE'])\n",
    "            token_type_ids = batch['token_type_ids'].to(config['DEVICE'])\n",
    "            \n",
    "            outputs = model(input_ids=input_ids, attention_mask=attention_mask, token_type_ids=token_type_ids)\n",
    "            loss = loss_function(outputs, labels)\n",
    "            acc=(outputs.argmax(1)==labels).sum().item()\n",
    "            val_loss += loss.item()\n",
    "            val_acc+=acc\n",
    "\n",
    "\n",
    "\n",
    "    \n",
    "    # Update the learning rate scheduler\n",
    "    scheduler.step()\n",
    "\n",
    "    early_stopping.update(val_loss/len(val_dataloader), model)\n",
    "\n",
    "    if early_stopping.early_stop:\n",
    "        print('Early stopping !')\n",
    "        break\n",
    "    \n",
    "\n",
    "    train_loss.append(total_loss/len(train_dataloader))\n",
    "    valid_loss.append(val_loss/len(val_dataloader))\n",
    "    print(f'Epoch {epoch + 1}/{config[\"EPOCH\"]}: Train Loss = {total_loss / len(train_dataloader)}, Val Loss = {val_loss/ len(val_dataloader)}')\n",
    "\n",
    "model = early_stopping.load_checkpoint(model)"
   ]
  },
  {
   "cell_type": "code",
   "execution_count": null,
   "metadata": {},
   "outputs": [
    {
     "name": "stdout",
     "output_type": "stream",
     "text": [
      "[]\n"
     ]
    }
   ],
   "source": [
    "print(train_loss)"
   ]
  },
  {
   "cell_type": "code",
   "execution_count": null,
   "metadata": {},
   "outputs": [
    {
     "name": "stdout",
     "output_type": "stream",
     "text": [
      "   writing_id                                               body\n",
      "0           4  \\r\\n\\r\\n　　　　　一\\r\\n\\r\\n　夕方降り出した雨はその晩遅くまで続いた。しとし...\n",
      "1           5  \\r\\n\\r\\n　この「東北文学」という雑誌の貴重な紙面の端をわずか拝借して申し上げます。ど...\n",
      "2           6  \\r\\n\\r\\n　幼少のころ、高知《こうち》の城下から東に五六里離れた親類の何かの饗宴《きょ...\n",
      "3          10  \\r\\n\\r\\n　　　　　　　　　　　　　○\\r\\n「三人姉妹」で、マーシャがどんな風に活か...\n",
      "4          11  \\r\\n\\r\\n［＃５字下げ］眼鏡［＃「眼鏡」は中見出し］\\r\\n\\r\\n　或日、趣味に関し...\n"
     ]
    }
   ],
   "source": [
    "predict_df=pd.read_csv(config['test_path'])\n",
    "print(predict_df.head())"
   ]
  },
  {
   "cell_type": "code",
   "execution_count": null,
   "metadata": {},
   "outputs": [
    {
     "name": "stderr",
     "output_type": "stream",
     "text": [
      "                                                                       \r"
     ]
    }
   ],
   "source": [
    "test_dataset=BERTDataSet(data=predict_df,tokenizer=tokenizer,mode='test')\n",
    "test_dataloader = DataLoader(test_dataset, batch_size=config['TEST_BATCH'], shuffle=False, num_workers=0, pin_memory=True)\n",
    "model.eval()\n",
    "predictions = []\n",
    "labels=[]\n",
    "with torch.no_grad():\n",
    "    for batch in tqdm(test_dataloader, desc='Generating Predictions', leave=False):\n",
    "        input_ids = batch['ids'].to(config['DEVICE'])\n",
    "        attention_mask = batch['mask'].to(config['DEVICE'])\n",
    "        token_type_ids = batch['token_type_ids'].to(config['DEVICE'])\n",
    "        \n",
    "        outputs = model(input_ids=input_ids, attention_mask=attention_mask)\n",
    "        probabilities = torch.softmax(outputs, dim=1)\n",
    "        predictions.extend(probabilities.tolist())\n",
    "        predicted_labels = torch.argmax(probabilities, dim=1)\n",
    "        labels.extend(predicted_labels.tolist())"
   ]
  },
  {
   "cell_type": "code",
   "execution_count": null,
   "metadata": {},
   "outputs": [
    {
     "data": {
      "text/html": [
       "<div>\n",
       "<style scoped>\n",
       "    .dataframe tbody tr th:only-of-type {\n",
       "        vertical-align: middle;\n",
       "    }\n",
       "\n",
       "    .dataframe tbody tr th {\n",
       "        vertical-align: top;\n",
       "    }\n",
       "\n",
       "    .dataframe thead th {\n",
       "        text-align: right;\n",
       "    }\n",
       "</style>\n",
       "<table border=\"1\" class=\"dataframe\">\n",
       "  <thead>\n",
       "    <tr style=\"text-align: right;\">\n",
       "      <th></th>\n",
       "      <th>writing_id</th>\n",
       "      <th>author</th>\n",
       "    </tr>\n",
       "  </thead>\n",
       "  <tbody>\n",
       "    <tr>\n",
       "      <th>0</th>\n",
       "      <td>4</td>\n",
       "      <td>0</td>\n",
       "    </tr>\n",
       "    <tr>\n",
       "      <th>1</th>\n",
       "      <td>5</td>\n",
       "      <td>0</td>\n",
       "    </tr>\n",
       "    <tr>\n",
       "      <th>2</th>\n",
       "      <td>6</td>\n",
       "      <td>0</td>\n",
       "    </tr>\n",
       "    <tr>\n",
       "      <th>3</th>\n",
       "      <td>10</td>\n",
       "      <td>0</td>\n",
       "    </tr>\n",
       "    <tr>\n",
       "      <th>4</th>\n",
       "      <td>11</td>\n",
       "      <td>0</td>\n",
       "    </tr>\n",
       "    <tr>\n",
       "      <th>...</th>\n",
       "      <td>...</td>\n",
       "      <td>...</td>\n",
       "    </tr>\n",
       "    <tr>\n",
       "      <th>1415</th>\n",
       "      <td>4716</td>\n",
       "      <td>0</td>\n",
       "    </tr>\n",
       "    <tr>\n",
       "      <th>1416</th>\n",
       "      <td>4719</td>\n",
       "      <td>0</td>\n",
       "    </tr>\n",
       "    <tr>\n",
       "      <th>1417</th>\n",
       "      <td>4725</td>\n",
       "      <td>0</td>\n",
       "    </tr>\n",
       "    <tr>\n",
       "      <th>1418</th>\n",
       "      <td>4726</td>\n",
       "      <td>0</td>\n",
       "    </tr>\n",
       "    <tr>\n",
       "      <th>1419</th>\n",
       "      <td>4727</td>\n",
       "      <td>0</td>\n",
       "    </tr>\n",
       "  </tbody>\n",
       "</table>\n",
       "<p>1420 rows × 2 columns</p>\n",
       "</div>"
      ],
      "text/plain": [
       "      writing_id  author\n",
       "0              4       0\n",
       "1              5       0\n",
       "2              6       0\n",
       "3             10       0\n",
       "4             11       0\n",
       "...          ...     ...\n",
       "1415        4716       0\n",
       "1416        4719       0\n",
       "1417        4725       0\n",
       "1418        4726       0\n",
       "1419        4727       0\n",
       "\n",
       "[1420 rows x 2 columns]"
      ]
     },
     "execution_count": 18,
     "metadata": {},
     "output_type": "execute_result"
    }
   ],
   "source": [
    "predict_df['author'] = labels\n",
    "predict_df.drop('body', axis=1, inplace=True)\n",
    "predict_df"
   ]
  },
  {
   "cell_type": "code",
   "execution_count": null,
   "metadata": {},
   "outputs": [],
   "source": [
    "predict_df.to_csv(config['output_path']+'predictions.csv', index=False)"
   ]
  },
  {
   "cell_type": "code",
   "execution_count": null,
   "metadata": {},
   "outputs": [],
   "source": []
  }
 ],
 "metadata": {
  "kernelspec": {
   "display_name": "kaggle",
   "language": "python",
   "name": "python3"
  },
  "language_info": {
   "codemirror_mode": {
    "name": "ipython",
    "version": 3
   },
   "file_extension": ".py",
   "mimetype": "text/x-python",
   "name": "python",
   "nbconvert_exporter": "python",
   "pygments_lexer": "ipython3",
   "version": "3.10.13"
  }
 },
 "nbformat": 4,
 "nbformat_minor": 2
}
